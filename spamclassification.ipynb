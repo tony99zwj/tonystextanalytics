{
 "cells": [
  {
   "cell_type": "markdown",
   "id": "9cdd6942",
   "metadata": {},
   "source": [
    "# Importing libraries"
   ]
  },
  {
   "cell_type": "code",
   "execution_count": 1,
   "id": "5ee63ffb",
   "metadata": {},
   "outputs": [],
   "source": [
    "#Import libs\n",
    "import pandas as pd \n",
    "import numpy as np \n",
    "import matplotlib.pyplot as plt \n",
    "import seaborn as sns\n",
    "from nltk.stem.porter import PorterStemmer\n",
    "from nltk.stem import WordNetLemmatizer\n",
    "from nltk.sentiment.vader import SentimentIntensityAnalyzer\n",
    "from sklearn.feature_extraction.text import CountVectorizer,TfidfVectorizer\n",
    "from nltk.corpus import stopwords\n",
    "from nltk.tokenize import word_tokenize, sent_tokenize\n",
    "from sklearn.preprocessing import LabelEncoder\n",
    "from sklearn.metrics import accuracy_score, precision_score, recall_score\n",
    "from sklearn.model_selection import train_test_split\n",
    "from sklearn.linear_model import LogisticRegression\n",
    "from sklearn.naive_bayes import MultinomialNB\n",
    "from sklearn.neighbors import KNeighborsClassifier\n",
    "from sklearn.ensemble import RandomForestClassifier,GradientBoostingClassifier,AdaBoostClassifier,ExtraTreesClassifier\n",
    "from collections import Counter\n",
    "import string\n",
    "import warnings\n",
    "warnings.filterwarnings('ignore')\n",
    "import warnings\n",
    "warnings.filterwarnings('ignore')"
   ]
  },
  {
   "cell_type": "markdown",
   "id": "634d7e78",
   "metadata": {},
   "source": [
    "# Data Preparation"
   ]
  },
  {
   "cell_type": "markdown",
   "id": "38d248ca",
   "metadata": {},
   "source": [
    "## Importing data"
   ]
  },
  {
   "cell_type": "code",
   "execution_count": 2,
   "id": "948cc31b",
   "metadata": {
    "scrolled": true
   },
   "outputs": [
    {
     "data": {
      "text/html": [
       "<div>\n",
       "<style scoped>\n",
       "    .dataframe tbody tr th:only-of-type {\n",
       "        vertical-align: middle;\n",
       "    }\n",
       "\n",
       "    .dataframe tbody tr th {\n",
       "        vertical-align: top;\n",
       "    }\n",
       "\n",
       "    .dataframe thead th {\n",
       "        text-align: right;\n",
       "    }\n",
       "</style>\n",
       "<table border=\"1\" class=\"dataframe\">\n",
       "  <thead>\n",
       "    <tr style=\"text-align: right;\">\n",
       "      <th></th>\n",
       "      <th>subject</th>\n",
       "      <th>message</th>\n",
       "      <th>label</th>\n",
       "    </tr>\n",
       "  </thead>\n",
       "  <tbody>\n",
       "    <tr>\n",
       "      <th>0</th>\n",
       "      <td>job posting - apple-iss research center</td>\n",
       "      <td>content - length : 3386 apple-iss research cen...</td>\n",
       "      <td>0</td>\n",
       "    </tr>\n",
       "    <tr>\n",
       "      <th>1</th>\n",
       "      <td>NaN</td>\n",
       "      <td>lang classification grimes , joseph e . and ba...</td>\n",
       "      <td>0</td>\n",
       "    </tr>\n",
       "    <tr>\n",
       "      <th>2</th>\n",
       "      <td>query : letter frequencies for text identifica...</td>\n",
       "      <td>i am posting this inquiry for sergei atamas ( ...</td>\n",
       "      <td>0</td>\n",
       "    </tr>\n",
       "    <tr>\n",
       "      <th>3</th>\n",
       "      <td>risk</td>\n",
       "      <td>a colleague and i are researching the differin...</td>\n",
       "      <td>0</td>\n",
       "    </tr>\n",
       "    <tr>\n",
       "      <th>4</th>\n",
       "      <td>request book information</td>\n",
       "      <td>earlier this morning i was on the phone with a...</td>\n",
       "      <td>0</td>\n",
       "    </tr>\n",
       "  </tbody>\n",
       "</table>\n",
       "</div>"
      ],
      "text/plain": [
       "                                             subject  \\\n",
       "0            job posting - apple-iss research center   \n",
       "1                                                NaN   \n",
       "2  query : letter frequencies for text identifica...   \n",
       "3                                               risk   \n",
       "4                           request book information   \n",
       "\n",
       "                                             message  label  \n",
       "0  content - length : 3386 apple-iss research cen...      0  \n",
       "1  lang classification grimes , joseph e . and ba...      0  \n",
       "2  i am posting this inquiry for sergei atamas ( ...      0  \n",
       "3  a colleague and i are researching the differin...      0  \n",
       "4  earlier this morning i was on the phone with a...      0  "
      ]
     },
     "execution_count": 2,
     "metadata": {},
     "output_type": "execute_result"
    }
   ],
   "source": [
    "#load lin-spam dataset \n",
    "df=pd.read_csv('messages.csv')\n",
    "df.head()"
   ]
  },
  {
   "cell_type": "markdown",
   "id": "a4ee6e6d",
   "metadata": {},
   "source": [
    "## Processing and cleaning data"
   ]
  },
  {
   "cell_type": "code",
   "execution_count": 3,
   "id": "9eaa28e4",
   "metadata": {},
   "outputs": [],
   "source": [
    "# converting all messages to lower case\n",
    "df['message'] = df['message'].str.lower()"
   ]
  },
  {
   "cell_type": "code",
   "execution_count": 4,
   "id": "bdd7f696",
   "metadata": {},
   "outputs": [
    {
     "data": {
      "text/html": [
       "<div>\n",
       "<style scoped>\n",
       "    .dataframe tbody tr th:only-of-type {\n",
       "        vertical-align: middle;\n",
       "    }\n",
       "\n",
       "    .dataframe tbody tr th {\n",
       "        vertical-align: top;\n",
       "    }\n",
       "\n",
       "    .dataframe thead th {\n",
       "        text-align: right;\n",
       "    }\n",
       "</style>\n",
       "<table border=\"1\" class=\"dataframe\">\n",
       "  <thead>\n",
       "    <tr style=\"text-align: right;\">\n",
       "      <th></th>\n",
       "      <th>subject</th>\n",
       "      <th>message</th>\n",
       "      <th>label</th>\n",
       "    </tr>\n",
       "  </thead>\n",
       "  <tbody>\n",
       "    <tr>\n",
       "      <th>0</th>\n",
       "      <td>job posting - apple-iss research center</td>\n",
       "      <td>content - length : 3386 apple-iss research cen...</td>\n",
       "      <td>0</td>\n",
       "    </tr>\n",
       "    <tr>\n",
       "      <th>1</th>\n",
       "      <td>NaN</td>\n",
       "      <td>lang classification grimes , joseph e . and ba...</td>\n",
       "      <td>0</td>\n",
       "    </tr>\n",
       "    <tr>\n",
       "      <th>2</th>\n",
       "      <td>query : letter frequencies for text identifica...</td>\n",
       "      <td>i am posting this inquiry for sergei atamas ( ...</td>\n",
       "      <td>0</td>\n",
       "    </tr>\n",
       "    <tr>\n",
       "      <th>3</th>\n",
       "      <td>risk</td>\n",
       "      <td>a colleague and i are researching the differin...</td>\n",
       "      <td>0</td>\n",
       "    </tr>\n",
       "    <tr>\n",
       "      <th>4</th>\n",
       "      <td>request book information</td>\n",
       "      <td>earlier this morning i was on the phone with a...</td>\n",
       "      <td>0</td>\n",
       "    </tr>\n",
       "  </tbody>\n",
       "</table>\n",
       "</div>"
      ],
      "text/plain": [
       "                                             subject  \\\n",
       "0            job posting - apple-iss research center   \n",
       "1                                                NaN   \n",
       "2  query : letter frequencies for text identifica...   \n",
       "3                                               risk   \n",
       "4                           request book information   \n",
       "\n",
       "                                             message  label  \n",
       "0  content - length : 3386 apple-iss research cen...      0  \n",
       "1  lang classification grimes , joseph e . and ba...      0  \n",
       "2  i am posting this inquiry for sergei atamas ( ...      0  \n",
       "3  a colleague and i are researching the differin...      0  \n",
       "4  earlier this morning i was on the phone with a...      0  "
      ]
     },
     "execution_count": 4,
     "metadata": {},
     "output_type": "execute_result"
    }
   ],
   "source": [
    "# check data once \n",
    "df.head()"
   ]
  },
  {
   "cell_type": "code",
   "execution_count": 5,
   "id": "d0382429",
   "metadata": {},
   "outputs": [
    {
     "data": {
      "text/plain": [
       "subject    62\n",
       "message     0\n",
       "label       0\n",
       "dtype: int64"
      ]
     },
     "execution_count": 5,
     "metadata": {},
     "output_type": "execute_result"
    }
   ],
   "source": [
    "# checing null values \n",
    "df.isnull().sum()"
   ]
  },
  {
   "cell_type": "code",
   "execution_count": 6,
   "id": "375b260e",
   "metadata": {},
   "outputs": [],
   "source": [
    "#fill na values\n",
    "df.fillna(df['subject'].mode().values[0],inplace=True)"
   ]
  },
  {
   "cell_type": "code",
   "execution_count": 7,
   "id": "6d321cf5",
   "metadata": {},
   "outputs": [
    {
     "data": {
      "text/plain": [
       "subject    0\n",
       "message    0\n",
       "label      0\n",
       "dtype: int64"
      ]
     },
     "execution_count": 7,
     "metadata": {},
     "output_type": "execute_result"
    }
   ],
   "source": [
    "# let's once again \n",
    "df.isnull().sum()"
   ]
  },
  {
   "cell_type": "code",
   "execution_count": 8,
   "id": "b29f80cf",
   "metadata": {},
   "outputs": [
    {
     "data": {
      "text/plain": [
       "<bound method NDFrame.head of                                                 subject  \\\n",
       "0               job posting - apple-iss research center   \n",
       "1                                      sociolinguistics   \n",
       "2     query : letter frequencies for text identifica...   \n",
       "3                                                  risk   \n",
       "4                              request book information   \n",
       "...                                                 ...   \n",
       "2888                       love your profile - ysuolvpv   \n",
       "2889                 you have been asked to join kiddin   \n",
       "2890                 anglicization of composers ' names   \n",
       "2891  re : 6 . 797 , comparative method : n - ary co...   \n",
       "2892               re : american - english in australia   \n",
       "\n",
       "                                                message  label  \\\n",
       "0     content - length : 3386 apple-iss research cen...      0   \n",
       "1     lang classification grimes , joseph e . and ba...      0   \n",
       "2     i am posting this inquiry for sergei atamas ( ...      0   \n",
       "3     a colleague and i are researching the differin...      0   \n",
       "4     earlier this morning i was on the phone with a...      0   \n",
       "...                                                 ...    ...   \n",
       "2888  hello thanks for stopping by ! ! we have taken...      1   \n",
       "2889  the list owner of : \" kiddin \" has invited you...      1   \n",
       "2890  judging from the return post , i must have sou...      0   \n",
       "2891  gotcha ! there are two separate fallacies in t...      0   \n",
       "2892  hello ! i ' m working on a thesis concerning a...      0   \n",
       "\n",
       "                                               sub_mssg  \n",
       "0     job posting - apple-iss research centercontent...  \n",
       "1     sociolinguisticslang classification grimes , j...  \n",
       "2     query : letter frequencies for text identifica...  \n",
       "3     riska colleague and i are researching the diff...  \n",
       "4     request book informationearlier this morning i...  \n",
       "...                                                 ...  \n",
       "2888  love your profile - ysuolvpvhello thanks for s...  \n",
       "2889  you have been asked to join kiddinthe list own...  \n",
       "2890  anglicization of composers ' namesjudging from...  \n",
       "2891  re : 6 . 797 , comparative method : n - ary co...  \n",
       "2892  re : american - english in australiahello ! i ...  \n",
       "\n",
       "[2893 rows x 4 columns]>"
      ]
     },
     "execution_count": 8,
     "metadata": {},
     "output_type": "execute_result"
    }
   ],
   "source": [
    "#combine two columns\n",
    "df['sub_mssg']=df['subject']+df['message']\n",
    "df.head"
   ]
  },
  {
   "cell_type": "code",
   "execution_count": 9,
   "id": "782233a0",
   "metadata": {},
   "outputs": [
    {
     "data": {
      "text/plain": [
       "count                                                  2893\n",
       "unique                                                 2876\n",
       "top       re := 20 the virtual girlfriend and virtual bo...\n",
       "freq                                                      4\n",
       "Name: sub_mssg, dtype: object"
      ]
     },
     "execution_count": 9,
     "metadata": {},
     "output_type": "execute_result"
    }
   ],
   "source": [
    "df['sub_mssg'].describe()"
   ]
  },
  {
   "cell_type": "code",
   "execution_count": 10,
   "id": "7f1f53af",
   "metadata": {},
   "outputs": [
    {
     "data": {
      "text/html": [
       "<div>\n",
       "<style scoped>\n",
       "    .dataframe tbody tr th:only-of-type {\n",
       "        vertical-align: middle;\n",
       "    }\n",
       "\n",
       "    .dataframe tbody tr th {\n",
       "        vertical-align: top;\n",
       "    }\n",
       "\n",
       "    .dataframe thead th {\n",
       "        text-align: right;\n",
       "    }\n",
       "</style>\n",
       "<table border=\"1\" class=\"dataframe\">\n",
       "  <thead>\n",
       "    <tr style=\"text-align: right;\">\n",
       "      <th></th>\n",
       "      <th>subject</th>\n",
       "      <th>message</th>\n",
       "      <th>label</th>\n",
       "      <th>sub_mssg</th>\n",
       "      <th>length</th>\n",
       "    </tr>\n",
       "  </thead>\n",
       "  <tbody>\n",
       "    <tr>\n",
       "      <th>0</th>\n",
       "      <td>job posting - apple-iss research center</td>\n",
       "      <td>content - length : 3386 apple-iss research cen...</td>\n",
       "      <td>0</td>\n",
       "      <td>job posting - apple-iss research centercontent...</td>\n",
       "      <td>2895</td>\n",
       "    </tr>\n",
       "    <tr>\n",
       "      <th>1</th>\n",
       "      <td>sociolinguistics</td>\n",
       "      <td>lang classification grimes , joseph e . and ba...</td>\n",
       "      <td>0</td>\n",
       "      <td>sociolinguisticslang classification grimes , j...</td>\n",
       "      <td>1816</td>\n",
       "    </tr>\n",
       "    <tr>\n",
       "      <th>2</th>\n",
       "      <td>query : letter frequencies for text identifica...</td>\n",
       "      <td>i am posting this inquiry for sergei atamas ( ...</td>\n",
       "      <td>0</td>\n",
       "      <td>query : letter frequencies for text identifica...</td>\n",
       "      <td>1485</td>\n",
       "    </tr>\n",
       "    <tr>\n",
       "      <th>3</th>\n",
       "      <td>risk</td>\n",
       "      <td>a colleague and i are researching the differin...</td>\n",
       "      <td>0</td>\n",
       "      <td>riska colleague and i are researching the diff...</td>\n",
       "      <td>328</td>\n",
       "    </tr>\n",
       "    <tr>\n",
       "      <th>4</th>\n",
       "      <td>request book information</td>\n",
       "      <td>earlier this morning i was on the phone with a...</td>\n",
       "      <td>0</td>\n",
       "      <td>request book informationearlier this morning i...</td>\n",
       "      <td>1070</td>\n",
       "    </tr>\n",
       "  </tbody>\n",
       "</table>\n",
       "</div>"
      ],
      "text/plain": [
       "                                             subject  \\\n",
       "0            job posting - apple-iss research center   \n",
       "1                                   sociolinguistics   \n",
       "2  query : letter frequencies for text identifica...   \n",
       "3                                               risk   \n",
       "4                           request book information   \n",
       "\n",
       "                                             message  label  \\\n",
       "0  content - length : 3386 apple-iss research cen...      0   \n",
       "1  lang classification grimes , joseph e . and ba...      0   \n",
       "2  i am posting this inquiry for sergei atamas ( ...      0   \n",
       "3  a colleague and i are researching the differin...      0   \n",
       "4  earlier this morning i was on the phone with a...      0   \n",
       "\n",
       "                                            sub_mssg  length  \n",
       "0  job posting - apple-iss research centercontent...    2895  \n",
       "1  sociolinguisticslang classification grimes , j...    1816  \n",
       "2  query : letter frequencies for text identifica...    1485  \n",
       "3  riska colleague and i are researching the diff...     328  \n",
       "4  request book informationearlier this morning i...    1070  "
      ]
     },
     "execution_count": 10,
     "metadata": {},
     "output_type": "execute_result"
    }
   ],
   "source": [
    "df['length']=df['sub_mssg'].apply(len)\n",
    "df.head()"
   ]
  },
  {
   "cell_type": "code",
   "execution_count": 11,
   "id": "25c677e4",
   "metadata": {},
   "outputs": [],
   "source": [
    "#now i'm going to drop un-necessary features \n",
    "df.drop('subject',axis=1,inplace=True)"
   ]
  },
  {
   "cell_type": "code",
   "execution_count": 12,
   "id": "285174ca",
   "metadata": {},
   "outputs": [
    {
     "data": {
      "text/html": [
       "<div>\n",
       "<style scoped>\n",
       "    .dataframe tbody tr th:only-of-type {\n",
       "        vertical-align: middle;\n",
       "    }\n",
       "\n",
       "    .dataframe tbody tr th {\n",
       "        vertical-align: top;\n",
       "    }\n",
       "\n",
       "    .dataframe thead th {\n",
       "        text-align: right;\n",
       "    }\n",
       "</style>\n",
       "<table border=\"1\" class=\"dataframe\">\n",
       "  <thead>\n",
       "    <tr style=\"text-align: right;\">\n",
       "      <th></th>\n",
       "      <th>message</th>\n",
       "      <th>label</th>\n",
       "      <th>sub_mssg</th>\n",
       "      <th>length</th>\n",
       "    </tr>\n",
       "  </thead>\n",
       "  <tbody>\n",
       "    <tr>\n",
       "      <th>0</th>\n",
       "      <td>content - length : 3386 apple-iss research cen...</td>\n",
       "      <td>0</td>\n",
       "      <td>job posting - apple-iss research centercontent...</td>\n",
       "      <td>2895</td>\n",
       "    </tr>\n",
       "    <tr>\n",
       "      <th>1</th>\n",
       "      <td>lang classification grimes , joseph e . and ba...</td>\n",
       "      <td>0</td>\n",
       "      <td>sociolinguisticslang classification grimes , j...</td>\n",
       "      <td>1816</td>\n",
       "    </tr>\n",
       "    <tr>\n",
       "      <th>2</th>\n",
       "      <td>i am posting this inquiry for sergei atamas ( ...</td>\n",
       "      <td>0</td>\n",
       "      <td>query : letter frequencies for text identifica...</td>\n",
       "      <td>1485</td>\n",
       "    </tr>\n",
       "    <tr>\n",
       "      <th>3</th>\n",
       "      <td>a colleague and i are researching the differin...</td>\n",
       "      <td>0</td>\n",
       "      <td>riska colleague and i are researching the diff...</td>\n",
       "      <td>328</td>\n",
       "    </tr>\n",
       "    <tr>\n",
       "      <th>4</th>\n",
       "      <td>earlier this morning i was on the phone with a...</td>\n",
       "      <td>0</td>\n",
       "      <td>request book informationearlier this morning i...</td>\n",
       "      <td>1070</td>\n",
       "    </tr>\n",
       "  </tbody>\n",
       "</table>\n",
       "</div>"
      ],
      "text/plain": [
       "                                             message  label  \\\n",
       "0  content - length : 3386 apple-iss research cen...      0   \n",
       "1  lang classification grimes , joseph e . and ba...      0   \n",
       "2  i am posting this inquiry for sergei atamas ( ...      0   \n",
       "3  a colleague and i are researching the differin...      0   \n",
       "4  earlier this morning i was on the phone with a...      0   \n",
       "\n",
       "                                            sub_mssg  length  \n",
       "0  job posting - apple-iss research centercontent...    2895  \n",
       "1  sociolinguisticslang classification grimes , j...    1816  \n",
       "2  query : letter frequencies for text identifica...    1485  \n",
       "3  riska colleague and i are researching the diff...     328  \n",
       "4  request book informationearlier this morning i...    1070  "
      ]
     },
     "execution_count": 12,
     "metadata": {},
     "output_type": "execute_result"
    }
   ],
   "source": [
    "# check it once \n",
    "df.head()"
   ]
  },
  {
   "cell_type": "code",
   "execution_count": 13,
   "id": "a9ffbea0",
   "metadata": {
    "scrolled": true
   },
   "outputs": [
    {
     "data": {
      "image/png": "[encoded data removed]",
      "text/plain": [
       "<Figure size 1400x700 with 1 Axes>"
      ]
     },
     "metadata": {},
     "output_type": "display_data"
    }
   ],
   "source": [
    "#visaulizing the dataset\n",
    "lb=df['label'].value_counts().index.tolist()\n",
    "val=df['label'].value_counts().values.tolist()\n",
    "exp=(0.025,0)\n",
    "clr=('orange','blue')\n",
    "plt.figure(figsize=(10,5),dpi=140)\n",
    "plt.pie(x=val,explode=exp,labels=lb,colors=clr,autopct='%2.0f%%',pctdistance=0.5, shadow=True,radius=0.9)\n",
    "plt.legend([\"0 = NO SPAM\",'1 = SPAM'])\n",
    "plt.show()\n"
   ]
  },
  {
   "cell_type": "code",
   "execution_count": 14,
   "id": "56200e60",
   "metadata": {},
   "outputs": [
    {
     "data": {
      "text/plain": [
       "\"content - length : 3386 apple-iss research center a us $ 10 million joint venture between apple computer inc . and the institute of systems science of the national university of singapore , located in singapore , is looking for : a senior speech scientist - - - - - - - - - - - - - - - - - - - - - - - - - the successful candidate will have research expertise in computational linguistics , including natural language processing and * * english * * and * * chinese * * statistical language modeling . knowledge of state-of - the-art corpus-based n - gram language models , cache language models , and part-of - speech language models are required . a text - to - speech project leader - - - - - - - - - - - - - - - - - - - - - - - - - - - - - - - the successful candidate will have research expertise expertise in two or more of the following areas : computational linguistics , including natural language parsing , lexical database design , and statistical language modeling ; text tokenization and normalization ; prosodic analysis . substantial knowledge of the phonology , syntax , and semantics of chinese is required . knowledge of acoustic phonetics and / or speech signal processing is desirable . both candidates will have a phd with at least 2 to 4 years of relevant work experience , or a technical msc degree with at least 5 to 7 years of experienc e . very strong software engineering skills , including design and implementation , and productization are required in these positions . knowledge of c , c + + and unix are preferred . a unix & c programmer - - - - - - - - - - - - - - - - - - - - we are looking for an experienced unix & c programmer , preferably with good industry experience , to join us in breaking new frontiers . strong knowledge of unix tools ( compilers , linkers , make , x - windows , e - mac , . . . ) and experience in matlab required . sun and silicon graphic experience is an advantage . programmers with less than two years industry experience need not apply . these positions include interaction with scientists in the national university of singapore , and with apple 's speech research and productization efforts located in cupertino , california . attendance and publication in international scientific / engineering conferences is encouraged . benefits include an internationally competitive salary , housing subsidy , and relocation expenses . _ _ _ _ _ _ _ _ _ _ _ _ _ _ _ _ _ _ _ _ _ _ _ _ _ _ _ _ _ _ _ _ _ _ _ _ _ _ _ _ _ _ _ _ _ _ _ _ _ _ _ _ _ _ _ _ _ _ _ _ _ _ _ _ _ _ send a complete resume , enclosing personal particulars , qualifications , experience and contact telephone number to : mr jean - luc lebrun center manager apple - iss research center , institute of systems science heng mui keng terrace , singapore 0511 tel : ( 65 ) 772-6571 fax : ( 65 ) 776-4005 email : jllebrun @ iss . nus . sg\\n\""
      ]
     },
     "execution_count": 14,
     "metadata": {},
     "output_type": "execute_result"
    }
   ],
   "source": [
    "df['message'][0]"
   ]
  },
  {
   "cell_type": "code",
   "execution_count": 15,
   "id": "4922d234",
   "metadata": {},
   "outputs": [],
   "source": [
    "#make a token function\n",
    "import re\n",
    "def decontact(phrase):\n",
    "    # specific\n",
    "    phrase = re.sub(r\"won't\", \"will not\", phrase)\n",
    "    phrase = re.sub(r\"can\\'t\", \"can not\", phrase)\n",
    "\n",
    "    # general\n",
    "    phrase = re.sub(r\"n\\'t\", \" not\", phrase)\n",
    "    phrase = re.sub(r\"\\'re\", \" are\", phrase)\n",
    "    phrase = re.sub(r\"\\'s\", \" is\", phrase)\n",
    "    phrase = re.sub(r\"\\'d\", \" would\", phrase)\n",
    "    phrase = re.sub(r\"\\'ll\", \" will\", phrase)\n",
    "    phrase = re.sub(r\"\\'t\", \" not\", phrase)\n",
    "    phrase = re.sub(r\"\\'ve\", \" have\", phrase)\n",
    "    phrase = re.sub(r\"\\'m\", \" am\", phrase)\n",
    "    return phrase"
   ]
  },
  {
   "cell_type": "code",
   "execution_count": 16,
   "id": "bdb69b04",
   "metadata": {},
   "outputs": [
    {
     "data": {
      "text/plain": [
       "'hi , i am new to the list . and since english is not my first language , i apologize for the mistakes you might find below : - ) . i hope that you will not mind if some of my explanations are in french . for my ph . d . semiotics , i am writing a dissertation on discourse and science-fiction and i need some information about the construction of neologisms in french and in english . ( neologisms are useful in sf , specially in the scientific field ! ) in french , neologisms are made in 5 different ways ( i hope these are the right english words ) : derivation ; composition ; imitation ; pure invention ; amalgam . one might also add borrowings from other languages . here are some examples ( sorry , the explanations are in french ) : - derivation : mot derive : \" position \" peut produire le verbe \" positionner \" ; - composition : mot compose : si \" monotone \" est decompose ( \" mono \" / \" tone \" ) , on peut recomposer \" polytone \" ; a partir de \" telephone \" on peut produire en science-fiction \" videophone \" . - imitation : souvent a partir d \\' une onomatopee : a partir de l \\' onomatopee \" couac \" on peut parler d \\' un \" couac \" ( = un nom ) ; - invention : mot forge : se distingue des autres categories car on ne reconnait dans la morphologie du mot aucun terme existant ( ex . : \" emparouille \" , \" endosque \" , \" pratele \" , \" libucque \" , \" ecorbalise \" - extraits d \\' henri michaux ) . cette categorie est contestee car certains pretendent qu \\' il est toujours possible de retrouver la racine . - amalgam : mot - valise : reunion de deux mots sur la base d \\' une homonymie partielle ; ainsi \" famille \" et \" millionnaire \" peuvent donner \" famillionnaire \" . in the every day french language , the 3 first ( mostly the 2 first ) processes are more frequent and the 2 others are used in the literary ( and humoristic ) discourse . my question ( s ) is ( are ) about the construction of neologisms in english . 1 ) does english use the same processes ? 2 ) even if it does , are the processes of the same importance in both languages ? 3 ) what would be the most frequent ones ? 4 ) what are the major differences ? 5 ) etc . thank you in advance , sylvie berard - - - - - - - - - - - - - - - - - - - - - - - - - - - - - - - - - - - - - - - - - - - - - - - - - - - - - - - - - - - - - - - - - - - - - - - - - - - - - sylvie berard \" but the fact is , i really , really hate d346215 @ er . uqam . ca housework , even when universite du quebec a montreal someone else is doing it . \" - - - - - - - - - - - - - - - - - - - - - - - - - - - - - - - - - - - - - - - - - - - - - - - - - - - - - - - - - - - - - - - - - - - - - - - -\\n'"
      ]
     },
     "execution_count": 16,
     "metadata": {},
     "output_type": "execute_result"
    }
   ],
   "source": [
    "mssg=decontact(df['message'][70])\n",
    "mssg"
   ]
  },
  {
   "cell_type": "code",
   "execution_count": 17,
   "id": "3c2f047c",
   "metadata": {},
   "outputs": [
    {
     "data": {
      "text/plain": [
       "\"job posting - apple-iss research centercontent - length : numbers apple-iss research center a us $ numbers million joint venture between apple computer inc . and the institute of systems science of the national university of singapore , located in singapore , is looking for : a senior speech scientist - - - - - - - - - - - - - - - - - - - - - - - - - the successful candidate will have research expertise in computational linguistics , including natural language processing and * * english * * and * * chinese * * statistical language modeling . knowledge of state-of - the-art corpus-based n - gram language models , cache language models , and part-of - speech language models are required . a text - to - speech project leader - - - - - - - - - - - - - - - - - - - - - - - - - - - - - - - the successful candidate will have research expertise expertise in two or more of the following areas : computational linguistics , including natural language parsing , lexical database design , and statistical language modeling ; text tokenization and normalization ; prosodic analysis . substantial knowledge of the phonology , syntax , and semantics of chinese is required . knowledge of acoustic phonetics and / or speech signal processing is desirable . both candidates will have a phd with at least numbers to numbers years of relevant work experience , or a technical msc degree with at least numbers to numbers years of experienc e . very strong software engineering skills , including design and implementation , and productization are required in these positions . knowledge of c , c + + and unix are preferred . a unix & c programmer - - - - - - - - - - - - - - - - - - - - we are looking for an experienced unix & c programmer , preferably with good industry experience , to join us in breaking new frontiers . strong knowledge of unix tools ( compilers , linkers , make , x - windows , e - mac , . . . ) and experience in matlab required . sun and silicon graphic experience is an advantage . programmers with less than two years industry experience need not apply . these positions include interaction with scientists in the national university of singapore , and with apple 's speech research and productization efforts located in cupertino , california . attendance and publication in international scientific / engineering conferences is encouraged . benefits include an internationally competitive salary , housing subsidy , and relocation expenses . _ _ _ _ _ _ _ _ _ _ _ _ _ _ _ _ _ _ _ _ _ _ _ _ _ _ _ _ _ _ _ _ _ _ _ _ _ _ _ _ _ _ _ _ _ _ _ _ _ _ _ _ _ _ _ _ _ _ _ _ _ _ _ _ _ _ send a complete resume , enclosing personal particulars , qualifications , experience and contact telephone number to : mr jean - luc lebrun center manager apple - iss research center , institute of systems science heng mui keng terrace , singapore numbers tel : ( numbers ) numbers-numbers fax : ( numbers ) numbers-numbers email : jllebrun @ iss . nus . sg\\n\""
      ]
     },
     "execution_count": 17,
     "metadata": {},
     "output_type": "execute_result"
    }
   ],
   "source": [
    "#REPLACING NUMBERS\n",
    "df['sub_mssg']=df['sub_mssg'].str.replace(r'\\d+(\\.\\d+)?', 'numbers')\n",
    "df['sub_mssg'][0]"
   ]
  },
  {
   "cell_type": "code",
   "execution_count": 18,
   "id": "3f379893",
   "metadata": {},
   "outputs": [],
   "source": [
    "#CONVRTING EVERYTHING TO LOWERCASE\n",
    "df['sub_mssg']=df['sub_mssg'].str.lower()\n",
    "#REPLACING NEXT LINES BY 'WHITE SPACE'\n",
    "df['sub_mssg']=df['sub_mssg'].str.replace(r'\\n',\" \") \n",
    "# REPLACING EMAIL IDs BY 'MAILID'\n",
    "df['sub_mssg']=df['sub_mssg'].str.replace(r'^.+@[^\\.].*\\.[a-z]{2,}$','MailID')\n",
    "# REPLACING URLs  BY 'Links'\n",
    "df['sub_mssg']=df['sub_mssg'].str.replace(r'^http\\://[a-zA-Z0-9\\-\\.]+\\.[a-zA-Z]{2,3}(/\\S*)?$','Links')\n",
    "# REPLACING CURRENCY SIGNS BY 'MONEY'\n",
    "df['sub_mssg']=df['sub_mssg'].str.replace(r'£|\\$', 'Money')\n",
    "# REPLACING LARGE WHITE SPACE BY SINGLE WHITE SPACE\n",
    "df['sub_mssg']=df['sub_mssg'].str.replace(r'\\s+', ' ')\n",
    "\n",
    "# REPLACING LEADING AND TRAILING WHITE SPACE BY SINGLE WHITE SPACE\n",
    "df['sub_mssg']=df['sub_mssg'].str.replace(r'^\\s+|\\s+?$', '')\n",
    "#REPLACING CONTACT NUMBERS\n",
    "df['sub_mssg']=df['sub_mssg'].str.replace(r'^\\(?[\\d]{3}\\)?[\\s-]?[\\d]{3}[\\s-]?[\\d]{4}$','contact number')\n",
    "#REPLACING SPECIAL CHARACTERS  BY WHITE SPACE \n",
    "df['sub_mssg']=df['sub_mssg'].str.replace(r\"[^a-zA-Z0-9]+\", \" \")"
   ]
  },
  {
   "cell_type": "code",
   "execution_count": 19,
   "id": "0245d465",
   "metadata": {},
   "outputs": [],
   "source": [
    "#CONVRTING EVERYTHING TO LOWERCASE\n",
    "df['message']=df['message'].str.lower()\n",
    "#REPLACING NEXT LINES BY 'WHITE SPACE'\n",
    "df['message']=df['message'].str.replace(r'\\n',\" \") \n",
    "# REPLACING EMAIL IDs BY 'MAILID'\n",
    "df['message']=df['message'].str.replace(r'^.+@[^\\.].*\\.[a-z]{2,}$','MailID')\n",
    "# REPLACING URLs  BY 'Links'\n",
    "df['message']=df['message'].str.replace(r'^http\\://[a-zA-Z0-9\\-\\.]+\\.[a-zA-Z]{2,3}(/\\S*)?$','Links')\n",
    "# REPLACING CURRENCY SIGNS BY 'MONEY'\n",
    "df['message']=df['message'].str.replace(r'£|\\$', 'Money')\n",
    "# REPLACING LARGE WHITE SPACE BY SINGLE WHITE SPACE\n",
    "df['message']=df['message'].str.replace(r'\\s+', ' ')\n",
    "\n",
    "# REPLACING LEADING AND TRAILING WHITE SPACE BY SINGLE WHITE SPACE\n",
    "df['message']=df['message'].str.replace(r'^\\s+|\\s+?$', '')\n",
    "#REPLACING CONTACT NUMBERS\n",
    "df['message']=df['message'].str.replace(r'^\\(?[\\d]{3}\\)?[\\s-]?[\\d]{3}[\\s-]?[\\d]{4}$','contact number')\n",
    "#REPLACING SPECIAL CHARACTERS  BY WHITE SPACE \n",
    "df['message']=df['message'].str.replace(r\"[^a-zA-Z0-9]+\", \" \")"
   ]
  },
  {
   "cell_type": "code",
   "execution_count": 20,
   "id": "04476186",
   "metadata": {},
   "outputs": [
    {
     "data": {
      "text/plain": [
       "'job posting apple iss research centercontent length numbers apple iss research center a us Money numbers million joint venture between apple computer inc and the institute of systems science of the national university of singapore located in singapore is looking for a senior speech scientist the successful candidate will have research expertise in computational linguistics including natural language processing and english and chinese statistical language modeling knowledge of state of the art corpus based n gram language models cache language models and part of speech language models are required a text to speech project leader the successful candidate will have research expertise expertise in two or more of the following areas computational linguistics including natural language parsing lexical database design and statistical language modeling text tokenization and normalization prosodic analysis substantial knowledge of the phonology syntax and semantics of chinese is required knowledge of acoustic phonetics and or speech signal processing is desirable both candidates will have a phd with at least numbers to numbers years of relevant work experience or a technical msc degree with at least numbers to numbers years of experienc e very strong software engineering skills including design and implementation and productization are required in these positions knowledge of c c and unix are preferred a unix c programmer we are looking for an experienced unix c programmer preferably with good industry experience to join us in breaking new frontiers strong knowledge of unix tools compilers linkers make x windows e mac and experience in matlab required sun and silicon graphic experience is an advantage programmers with less than two years industry experience need not apply these positions include interaction with scientists in the national university of singapore and with apple s speech research and productization efforts located in cupertino california attendance and publication in international scientific engineering conferences is encouraged benefits include an internationally competitive salary housing subsidy and relocation expenses send a complete resume enclosing personal particulars qualifications experience and contact telephone number to mr jean luc lebrun center manager apple iss research center institute of systems science heng mui keng terrace singapore numbers tel numbers numbers numbers fax numbers numbers numbers email jllebrun iss nus sg'"
      ]
     },
     "execution_count": 20,
     "metadata": {},
     "output_type": "execute_result"
    }
   ],
   "source": [
    "df['sub_mssg'][0]"
   ]
  },
  {
   "cell_type": "code",
   "execution_count": 21,
   "id": "81c5fe30",
   "metadata": {
    "scrolled": true
   },
   "outputs": [
    {
     "data": {
      "text/html": [
       "<div>\n",
       "<style scoped>\n",
       "    .dataframe tbody tr th:only-of-type {\n",
       "        vertical-align: middle;\n",
       "    }\n",
       "\n",
       "    .dataframe tbody tr th {\n",
       "        vertical-align: top;\n",
       "    }\n",
       "\n",
       "    .dataframe thead th {\n",
       "        text-align: right;\n",
       "    }\n",
       "</style>\n",
       "<table border=\"1\" class=\"dataframe\">\n",
       "  <thead>\n",
       "    <tr style=\"text-align: right;\">\n",
       "      <th></th>\n",
       "      <th>message</th>\n",
       "      <th>label</th>\n",
       "      <th>sub_mssg</th>\n",
       "      <th>length</th>\n",
       "    </tr>\n",
       "  </thead>\n",
       "  <tbody>\n",
       "    <tr>\n",
       "      <th>0</th>\n",
       "      <td>content length 3386 apple iss research center ...</td>\n",
       "      <td>0</td>\n",
       "      <td>job posting apple iss research centercontent l...</td>\n",
       "      <td>2895</td>\n",
       "    </tr>\n",
       "    <tr>\n",
       "      <th>1</th>\n",
       "      <td>lang classification grimes joseph e and barbar...</td>\n",
       "      <td>0</td>\n",
       "      <td>sociolinguisticslang classification grimes jos...</td>\n",
       "      <td>1816</td>\n",
       "    </tr>\n",
       "    <tr>\n",
       "      <th>2</th>\n",
       "      <td>i am posting this inquiry for sergei atamas sa...</td>\n",
       "      <td>0</td>\n",
       "      <td>query letter frequencies for text identificati...</td>\n",
       "      <td>1485</td>\n",
       "    </tr>\n",
       "    <tr>\n",
       "      <th>3</th>\n",
       "      <td>a colleague and i are researching the differin...</td>\n",
       "      <td>0</td>\n",
       "      <td>riska colleague and i are researching the diff...</td>\n",
       "      <td>328</td>\n",
       "    </tr>\n",
       "    <tr>\n",
       "      <th>4</th>\n",
       "      <td>earlier this morning i was on the phone with a...</td>\n",
       "      <td>0</td>\n",
       "      <td>request book informationearlier this morning i...</td>\n",
       "      <td>1070</td>\n",
       "    </tr>\n",
       "  </tbody>\n",
       "</table>\n",
       "</div>"
      ],
      "text/plain": [
       "                                             message  label  \\\n",
       "0  content length 3386 apple iss research center ...      0   \n",
       "1  lang classification grimes joseph e and barbar...      0   \n",
       "2  i am posting this inquiry for sergei atamas sa...      0   \n",
       "3  a colleague and i are researching the differin...      0   \n",
       "4  earlier this morning i was on the phone with a...      0   \n",
       "\n",
       "                                            sub_mssg  length  \n",
       "0  job posting apple iss research centercontent l...    2895  \n",
       "1  sociolinguisticslang classification grimes jos...    1816  \n",
       "2  query letter frequencies for text identificati...    1485  \n",
       "3  riska colleague and i are researching the diff...     328  \n",
       "4  request book informationearlier this morning i...    1070  "
      ]
     },
     "execution_count": 21,
     "metadata": {},
     "output_type": "execute_result"
    }
   ],
   "source": [
    "df.head()"
   ]
  },
  {
   "cell_type": "markdown",
   "id": "fd844e26",
   "metadata": {},
   "source": [
    "## Tokenizing"
   ]
  },
  {
   "cell_type": "code",
   "execution_count": 22,
   "id": "da537cb0",
   "metadata": {},
   "outputs": [],
   "source": [
    "from tqdm import tqdm\n",
    "from nltk.corpus import stopwords\n",
    "from nltk.tokenize import word_tokenize, sent_tokenize\n",
    "# removing stopwords \n",
    "stop = stopwords.words('english')\n",
    "df['Cleaned_Text'] = df['sub_mssg'].apply(lambda x: ' '.join([word for word in x.split() if word not in (stop)]))"
   ]
  },
  {
   "cell_type": "code",
   "execution_count": 23,
   "id": "00e89cfc",
   "metadata": {},
   "outputs": [
    {
     "data": {
      "text/html": [
       "<div>\n",
       "<style scoped>\n",
       "    .dataframe tbody tr th:only-of-type {\n",
       "        vertical-align: middle;\n",
       "    }\n",
       "\n",
       "    .dataframe tbody tr th {\n",
       "        vertical-align: top;\n",
       "    }\n",
       "\n",
       "    .dataframe thead th {\n",
       "        text-align: right;\n",
       "    }\n",
       "</style>\n",
       "<table border=\"1\" class=\"dataframe\">\n",
       "  <thead>\n",
       "    <tr style=\"text-align: right;\">\n",
       "      <th></th>\n",
       "      <th>message</th>\n",
       "      <th>label</th>\n",
       "      <th>sub_mssg</th>\n",
       "      <th>length</th>\n",
       "      <th>Cleaned_Text</th>\n",
       "    </tr>\n",
       "  </thead>\n",
       "  <tbody>\n",
       "    <tr>\n",
       "      <th>0</th>\n",
       "      <td>content length 3386 apple iss research center ...</td>\n",
       "      <td>0</td>\n",
       "      <td>job posting apple iss research centercontent l...</td>\n",
       "      <td>2895</td>\n",
       "      <td>job posting apple iss research centercontent l...</td>\n",
       "    </tr>\n",
       "    <tr>\n",
       "      <th>1</th>\n",
       "      <td>lang classification grimes joseph e and barbar...</td>\n",
       "      <td>0</td>\n",
       "      <td>sociolinguisticslang classification grimes jos...</td>\n",
       "      <td>1816</td>\n",
       "      <td>sociolinguisticslang classification grimes jos...</td>\n",
       "    </tr>\n",
       "    <tr>\n",
       "      <th>2</th>\n",
       "      <td>i am posting this inquiry for sergei atamas sa...</td>\n",
       "      <td>0</td>\n",
       "      <td>query letter frequencies for text identificati...</td>\n",
       "      <td>1485</td>\n",
       "      <td>query letter frequencies text identificationi ...</td>\n",
       "    </tr>\n",
       "    <tr>\n",
       "      <th>3</th>\n",
       "      <td>a colleague and i are researching the differin...</td>\n",
       "      <td>0</td>\n",
       "      <td>riska colleague and i are researching the diff...</td>\n",
       "      <td>328</td>\n",
       "      <td>riska colleague researching differing degrees ...</td>\n",
       "    </tr>\n",
       "    <tr>\n",
       "      <th>4</th>\n",
       "      <td>earlier this morning i was on the phone with a...</td>\n",
       "      <td>0</td>\n",
       "      <td>request book informationearlier this morning i...</td>\n",
       "      <td>1070</td>\n",
       "      <td>request book informationearlier morning phone ...</td>\n",
       "    </tr>\n",
       "  </tbody>\n",
       "</table>\n",
       "</div>"
      ],
      "text/plain": [
       "                                             message  label  \\\n",
       "0  content length 3386 apple iss research center ...      0   \n",
       "1  lang classification grimes joseph e and barbar...      0   \n",
       "2  i am posting this inquiry for sergei atamas sa...      0   \n",
       "3  a colleague and i are researching the differin...      0   \n",
       "4  earlier this morning i was on the phone with a...      0   \n",
       "\n",
       "                                            sub_mssg  length  \\\n",
       "0  job posting apple iss research centercontent l...    2895   \n",
       "1  sociolinguisticslang classification grimes jos...    1816   \n",
       "2  query letter frequencies for text identificati...    1485   \n",
       "3  riska colleague and i are researching the diff...     328   \n",
       "4  request book informationearlier this morning i...    1070   \n",
       "\n",
       "                                        Cleaned_Text  \n",
       "0  job posting apple iss research centercontent l...  \n",
       "1  sociolinguisticslang classification grimes jos...  \n",
       "2  query letter frequencies text identificationi ...  \n",
       "3  riska colleague researching differing degrees ...  \n",
       "4  request book informationearlier morning phone ...  "
      ]
     },
     "execution_count": 23,
     "metadata": {},
     "output_type": "execute_result"
    }
   ],
   "source": [
    "df.head()"
   ]
  },
  {
   "cell_type": "code",
   "execution_count": 24,
   "id": "4e6dd2bb",
   "metadata": {},
   "outputs": [
    {
     "data": {
      "text/html": [
       "<div>\n",
       "<style scoped>\n",
       "    .dataframe tbody tr th:only-of-type {\n",
       "        vertical-align: middle;\n",
       "    }\n",
       "\n",
       "    .dataframe tbody tr th {\n",
       "        vertical-align: top;\n",
       "    }\n",
       "\n",
       "    .dataframe thead th {\n",
       "        text-align: right;\n",
       "    }\n",
       "</style>\n",
       "<table border=\"1\" class=\"dataframe\">\n",
       "  <thead>\n",
       "    <tr style=\"text-align: right;\">\n",
       "      <th></th>\n",
       "      <th>label</th>\n",
       "      <th>length</th>\n",
       "      <th>Cleaned_Text</th>\n",
       "    </tr>\n",
       "  </thead>\n",
       "  <tbody>\n",
       "    <tr>\n",
       "      <th>0</th>\n",
       "      <td>0</td>\n",
       "      <td>2895</td>\n",
       "      <td>job posting apple iss research centercontent l...</td>\n",
       "    </tr>\n",
       "    <tr>\n",
       "      <th>1</th>\n",
       "      <td>0</td>\n",
       "      <td>1816</td>\n",
       "      <td>sociolinguisticslang classification grimes jos...</td>\n",
       "    </tr>\n",
       "    <tr>\n",
       "      <th>2</th>\n",
       "      <td>0</td>\n",
       "      <td>1485</td>\n",
       "      <td>query letter frequencies text identificationi ...</td>\n",
       "    </tr>\n",
       "    <tr>\n",
       "      <th>3</th>\n",
       "      <td>0</td>\n",
       "      <td>328</td>\n",
       "      <td>riska colleague researching differing degrees ...</td>\n",
       "    </tr>\n",
       "    <tr>\n",
       "      <th>4</th>\n",
       "      <td>0</td>\n",
       "      <td>1070</td>\n",
       "      <td>request book informationearlier morning phone ...</td>\n",
       "    </tr>\n",
       "  </tbody>\n",
       "</table>\n",
       "</div>"
      ],
      "text/plain": [
       "   label  length                                       Cleaned_Text\n",
       "0      0    2895  job posting apple iss research centercontent l...\n",
       "1      0    1816  sociolinguisticslang classification grimes jos...\n",
       "2      0    1485  query letter frequencies text identificationi ...\n",
       "3      0     328  riska colleague researching differing degrees ...\n",
       "4      0    1070  request book informationearlier morning phone ..."
      ]
     },
     "execution_count": 24,
     "metadata": {},
     "output_type": "execute_result"
    }
   ],
   "source": [
    "df.drop('message',axis=1,inplace=True)\n",
    "df.drop('sub_mssg',axis=1,inplace=True)\n",
    "df.head()"
   ]
  },
  {
   "cell_type": "code",
   "execution_count": 25,
   "id": "1d8bd98e",
   "metadata": {},
   "outputs": [
    {
     "data": {
      "text/plain": [
       "label           0\n",
       "length          0\n",
       "Cleaned_Text    0\n",
       "dtype: int64"
      ]
     },
     "execution_count": 25,
     "metadata": {},
     "output_type": "execute_result"
    }
   ],
   "source": [
    "df.isnull().sum()"
   ]
  },
  {
   "cell_type": "code",
   "execution_count": 26,
   "id": "70a4cb48",
   "metadata": {},
   "outputs": [
    {
     "data": {
      "text/html": [
       "<div>\n",
       "<style scoped>\n",
       "    .dataframe tbody tr th:only-of-type {\n",
       "        vertical-align: middle;\n",
       "    }\n",
       "\n",
       "    .dataframe tbody tr th {\n",
       "        vertical-align: top;\n",
       "    }\n",
       "\n",
       "    .dataframe thead th {\n",
       "        text-align: right;\n",
       "    }\n",
       "</style>\n",
       "<table border=\"1\" class=\"dataframe\">\n",
       "  <thead>\n",
       "    <tr style=\"text-align: right;\">\n",
       "      <th></th>\n",
       "      <th>label</th>\n",
       "      <th>length</th>\n",
       "      <th>Cleaned_Text</th>\n",
       "      <th>lgth_clean</th>\n",
       "    </tr>\n",
       "  </thead>\n",
       "  <tbody>\n",
       "    <tr>\n",
       "      <th>0</th>\n",
       "      <td>0</td>\n",
       "      <td>2895</td>\n",
       "      <td>job posting apple iss research centercontent l...</td>\n",
       "      <td>2108</td>\n",
       "    </tr>\n",
       "    <tr>\n",
       "      <th>1</th>\n",
       "      <td>0</td>\n",
       "      <td>1816</td>\n",
       "      <td>sociolinguisticslang classification grimes jos...</td>\n",
       "      <td>1506</td>\n",
       "    </tr>\n",
       "    <tr>\n",
       "      <th>2</th>\n",
       "      <td>0</td>\n",
       "      <td>1485</td>\n",
       "      <td>query letter frequencies text identificationi ...</td>\n",
       "      <td>1150</td>\n",
       "    </tr>\n",
       "    <tr>\n",
       "      <th>3</th>\n",
       "      <td>0</td>\n",
       "      <td>328</td>\n",
       "      <td>riska colleague researching differing degrees ...</td>\n",
       "      <td>216</td>\n",
       "    </tr>\n",
       "    <tr>\n",
       "      <th>4</th>\n",
       "      <td>0</td>\n",
       "      <td>1070</td>\n",
       "      <td>request book informationearlier morning phone ...</td>\n",
       "      <td>653</td>\n",
       "    </tr>\n",
       "  </tbody>\n",
       "</table>\n",
       "</div>"
      ],
      "text/plain": [
       "   label  length                                       Cleaned_Text  \\\n",
       "0      0    2895  job posting apple iss research centercontent l...   \n",
       "1      0    1816  sociolinguisticslang classification grimes jos...   \n",
       "2      0    1485  query letter frequencies text identificationi ...   \n",
       "3      0     328  riska colleague researching differing degrees ...   \n",
       "4      0    1070  request book informationearlier morning phone ...   \n",
       "\n",
       "   lgth_clean  \n",
       "0        2108  \n",
       "1        1506  \n",
       "2        1150  \n",
       "3         216  \n",
       "4         653  "
      ]
     },
     "execution_count": 26,
     "metadata": {},
     "output_type": "execute_result"
    }
   ],
   "source": [
    "df['lgth_clean']=df['Cleaned_Text'].apply(len)\n",
    "df.head()"
   ]
  },
  {
   "cell_type": "code",
   "execution_count": 27,
   "id": "01b7819f",
   "metadata": {},
   "outputs": [],
   "source": [
    "original_length=sum(df['length'])\n",
    "after_cleaning=sum(df['lgth_clean'])"
   ]
  },
  {
   "cell_type": "code",
   "execution_count": 28,
   "id": "f94139f8",
   "metadata": {
    "scrolled": false
   },
   "outputs": [
    {
     "name": "stdout",
     "output_type": "stream",
     "text": [
      "original_length 9437398\n",
      "after_cleaning 6847913\n"
     ]
    }
   ],
   "source": [
    "print(\"original_length\",original_length)\n",
    "print('after_cleaning',after_cleaning)"
   ]
  },
  {
   "cell_type": "markdown",
   "id": "520eb0af",
   "metadata": {},
   "source": [
    "# Training and Testing"
   ]
  },
  {
   "cell_type": "code",
   "execution_count": 29,
   "id": "6eaa41c9",
   "metadata": {},
   "outputs": [],
   "source": [
    "# 1. Convert text into vectors using TF-IDF\n",
    "# 2. Instantiate MultinomialNB classifier\n",
    "# 3. Split feature and label\n",
    "from sklearn.feature_extraction.text import TfidfVectorizer\n",
    "from sklearn.naive_bayes import MultinomialNB\n",
    "from sklearn.model_selection import train_test_split\n",
    "from sklearn.metrics import accuracy_score, confusion_matrix, classification_report\n",
    "from sklearn.linear_model import LogisticRegression\n",
    "from sklearn.tree import DecisionTreeClassifier\n",
    "from sklearn.naive_bayes import GaussianNB\n",
    "from sklearn.metrics import confusion_matrix\n",
    "from sklearn.metrics import classification_report\n",
    "from sklearn.model_selection import train_test_split\n",
    "from sklearn.metrics import accuracy_score, precision_score, recall_score\n",
    "from sklearn.model_selection import GridSearchCV\n",
    "from sklearn.model_selection import cross_val_score\n",
    "import warnings\n",
    "from sklearn.pipeline import Pipeline"
   ]
  },
  {
   "cell_type": "code",
   "execution_count": 30,
   "id": "10dd8dce",
   "metadata": {},
   "outputs": [],
   "source": [
    "# Convert text into vectors using TF-IDF\n",
    "tvec = TfidfVectorizer()\n",
    "lr = LogisticRegression(solver = \"lbfgs\")"
   ]
  },
  {
   "cell_type": "code",
   "execution_count": 31,
   "id": "ff9efcd7",
   "metadata": {},
   "outputs": [],
   "source": [
    "#split data\n",
    "X = df.Cleaned_Text\n",
    "Y = df.label\n",
    "\n",
    "X_train, X_test, Y_train, Y_test = train_test_split(X, Y, test_size = 0.1, random_state = 225,stratify=Y)"
   ]
  },
  {
   "cell_type": "code",
   "execution_count": 32,
   "id": "11a28727",
   "metadata": {
    "scrolled": true
   },
   "outputs": [
    {
     "name": "stdout",
     "output_type": "stream",
     "text": [
      "2100    searching west african indian textsdear collea...\n",
      "1498    sum reactions synthetic speecha number weeks a...\n",
      "2110    youth gang lipolaliapardon neologism lipogram ...\n",
      "910     call paperscall papers numbersst annual confer...\n",
      "719     secret hardcore sex site click check http www ...\n",
      "                              ...                        \n",
      "491     sum referencehere reference posted request sha...\n",
      "617     endangered languages workshopthe foundation en...\n",
      "439     japanese conferencecontent length numbers x su...\n",
      "82      sum v initial languagesseveral weeks ago poste...\n",
      "2028    want best economical hunting vacation life wan...\n",
      "Name: Cleaned_Text, Length: 290, dtype: object\n"
     ]
    }
   ],
   "source": [
    "print (X_test)"
   ]
  },
  {
   "cell_type": "code",
   "execution_count": 33,
   "id": "5212fbc5",
   "metadata": {},
   "outputs": [
    {
     "data": {
      "text/plain": [
       "array([[242,   8],\n",
       "       [  0,  40]])"
      ]
     },
     "execution_count": 33,
     "metadata": {},
     "output_type": "execute_result"
    }
   ],
   "source": [
    "# Convert text into vectors using TF-IDF\n",
    "model = Pipeline([('vectorizer',tvec),('classifier',lr)])\n",
    "\n",
    "model.fit(X_train,Y_train)\n",
    "\n",
    "\n",
    "from sklearn.metrics import confusion_matrix\n",
    "\n",
    "y_pred = model.predict(X_test)\n",
    "\n",
    "confusion_matrix(y_pred,Y_test)"
   ]
  },
  {
   "cell_type": "code",
   "execution_count": 34,
   "id": "2f207804",
   "metadata": {
    "scrolled": false
   },
   "outputs": [
    {
     "name": "stdout",
     "output_type": "stream",
     "text": [
      "Accuracy :  0.9724137931034482\n",
      "Precision :  0.9770114942528735\n",
      "Recall :  0.9724137931034482\n"
     ]
    }
   ],
   "source": [
    "print(\"Accuracy : \", accuracy_score(y_pred,Y_test))\n",
    "print(\"Precision : \", precision_score(y_pred,Y_test, average = 'weighted'))\n",
    "print(\"Recall : \", recall_score(y_pred,Y_test, average = 'weighted'))"
   ]
  },
  {
   "cell_type": "code",
   "execution_count": 35,
   "id": "8a826d86",
   "metadata": {},
   "outputs": [
    {
     "name": "stdout",
     "output_type": "stream",
     "text": [
      "[[242  37]\n",
      " [  0  11]]\n",
      "Accuracy :  0.8724137931034482\n",
      "Precision :  0.9707614942528735\n",
      "Recall :  0.8724137931034482\n"
     ]
    }
   ],
   "source": [
    "#training the model\n",
    "mnb = MultinomialNB()\n",
    "model_2 = Pipeline([('vectorizer',tvec),('classifier',mnb)])\n",
    "model_2.fit(X_train,Y_train)\n",
    "\n",
    "\n",
    "y_pred = model_2.predict(X_test)\n",
    "\n",
    "print(confusion_matrix(y_pred,Y_test))\n",
    "print(\"Accuracy : \", accuracy_score(y_pred,Y_test))\n",
    "print(\"Precision : \", precision_score(y_pred,Y_test, average = 'weighted'))\n",
    "print(\"Recall : \", recall_score(y_pred,Y_test, average = 'weighted'))"
   ]
  },
  {
   "cell_type": "markdown",
   "id": "6a14fd75",
   "metadata": {},
   "source": [
    "# Saving and loading the model"
   ]
  },
  {
   "cell_type": "code",
   "execution_count": 36,
   "id": "e51484cd",
   "metadata": {
    "scrolled": true
   },
   "outputs": [],
   "source": [
    "import pickle\n",
    "#save the model\n",
    "with open ('logi_classifier_pickle', 'wb') as f:\n",
    "        pickle.dump(model, f)"
   ]
  },
  {
   "cell_type": "code",
   "execution_count": 37,
   "id": "c5627dcf",
   "metadata": {},
   "outputs": [],
   "source": [
    "#load the model\n",
    "with open ('logi_classifier_pickle', 'rb') as f:\n",
    "        logi = pickle.load(f)"
   ]
  },
  {
   "cell_type": "code",
   "execution_count": 38,
   "id": "b024bb83",
   "metadata": {},
   "outputs": [],
   "source": [
    "import pickle\n",
    "#save the model\n",
    "with open ('nb_classifier_pickle', 'wb') as f:\n",
    "        pickle.dump(model_2, f)"
   ]
  },
  {
   "cell_type": "code",
   "execution_count": 39,
   "id": "f079669e",
   "metadata": {},
   "outputs": [],
   "source": [
    "#load the model\n",
    "with open ('nb_classifier_pickle', 'rb') as f:\n",
    "        nb = pickle.load(f)"
   ]
  },
  {
   "cell_type": "code",
   "execution_count": 40,
   "id": "3115633e",
   "metadata": {},
   "outputs": [
    {
     "data": {
      "text/plain": [
       "array([0, 0, 0, 0, 1, 0, 0, 0, 0, 0, 0, 0, 0, 0, 0, 0, 0, 0, 0, 0, 0, 0,\n",
       "       0, 0, 0, 1, 0, 0, 0, 0, 0, 0, 0, 0, 0, 1, 0, 0, 0, 0, 0, 1, 0, 0,\n",
       "       1, 0, 0, 0, 1, 0, 0, 0, 0, 1, 1, 0, 0, 0, 0, 1, 0, 0, 0, 0, 1, 0,\n",
       "       0, 0, 0, 0, 0, 1, 0, 0, 0, 1, 0, 0, 0, 0, 0, 0, 0, 0, 0, 0, 0, 0,\n",
       "       0, 0, 0, 0, 0, 0, 0, 0, 0, 0, 0, 0, 0, 0, 1, 0, 1, 0, 0, 1, 0, 1,\n",
       "       0, 0, 0, 0, 0, 0, 1, 0, 0, 0, 0, 0, 0, 0, 0, 0, 0, 0, 0, 0, 0, 0,\n",
       "       0, 0, 0, 0, 0, 0, 0, 0, 0, 0, 0, 1, 0, 0, 1, 0, 0, 0, 0, 0, 1, 0,\n",
       "       0, 1, 0, 0, 0, 0, 0, 1, 0, 0, 0, 0, 0, 0, 0, 0, 1, 0, 0, 1, 1, 0,\n",
       "       0, 1, 1, 0, 0, 0, 0, 0, 0, 0, 0, 0, 0, 0, 0, 0, 0, 1, 0, 0, 0, 0,\n",
       "       0, 0, 0, 0, 0, 1, 0, 0, 0, 0, 0, 0, 1, 0, 0, 0, 1, 0, 0, 0, 0, 0,\n",
       "       0, 0, 0, 0, 0, 0, 0, 0, 0, 0, 0, 0, 0, 0, 0, 0, 0, 0, 0, 1, 0, 0,\n",
       "       0, 0, 0, 0, 0, 0, 0, 0, 0, 0, 0, 0, 0, 0, 0, 1, 0, 1, 0, 0, 0, 1,\n",
       "       0, 0, 0, 1, 0, 1, 0, 0, 0, 0, 0, 0, 0, 0, 0, 1, 1, 0, 0, 0, 1, 0,\n",
       "       0, 0, 0, 0])"
      ]
     },
     "execution_count": 40,
     "metadata": {},
     "output_type": "execute_result"
    }
   ],
   "source": [
    "logi.predict(X_test)"
   ]
  },
  {
   "cell_type": "code",
   "execution_count": 41,
   "id": "c0e08239",
   "metadata": {
    "scrolled": false
   },
   "outputs": [
    {
     "data": {
      "text/plain": [
       "array([0, 0, 0, 0, 1, 0, 0, 0, 0, 0, 0, 0, 0, 0, 0, 0, 0, 0, 0, 0, 0, 0,\n",
       "       0, 0, 0, 0, 0, 0, 0, 0, 0, 0, 0, 0, 0, 0, 0, 0, 0, 0, 0, 0, 0, 0,\n",
       "       1, 0, 0, 0, 0, 0, 0, 0, 0, 0, 0, 0, 0, 0, 0, 0, 0, 0, 0, 0, 1, 0,\n",
       "       0, 0, 0, 0, 0, 0, 0, 0, 0, 0, 0, 0, 0, 0, 0, 0, 0, 0, 0, 0, 0, 0,\n",
       "       0, 0, 0, 0, 0, 0, 0, 0, 0, 0, 0, 0, 0, 0, 0, 0, 0, 0, 0, 0, 0, 0,\n",
       "       0, 0, 0, 0, 0, 0, 0, 0, 0, 0, 0, 0, 0, 0, 0, 0, 0, 0, 0, 0, 0, 0,\n",
       "       0, 0, 0, 0, 0, 0, 0, 0, 0, 0, 0, 0, 0, 0, 0, 0, 0, 0, 0, 0, 0, 0,\n",
       "       0, 1, 0, 0, 0, 0, 0, 0, 0, 0, 0, 0, 0, 0, 0, 0, 0, 0, 0, 1, 1, 0,\n",
       "       0, 1, 0, 0, 0, 0, 0, 0, 0, 0, 0, 0, 0, 0, 0, 0, 0, 0, 0, 0, 0, 0,\n",
       "       0, 0, 0, 0, 0, 1, 0, 0, 0, 0, 0, 0, 0, 0, 0, 0, 0, 0, 0, 0, 0, 0,\n",
       "       0, 0, 0, 0, 0, 0, 0, 0, 0, 0, 0, 0, 0, 0, 0, 0, 0, 0, 0, 1, 0, 0,\n",
       "       0, 0, 0, 0, 0, 0, 0, 0, 0, 0, 0, 0, 0, 0, 0, 0, 0, 0, 0, 0, 0, 0,\n",
       "       0, 0, 0, 1, 0, 0, 0, 0, 0, 0, 0, 0, 0, 0, 0, 0, 0, 0, 0, 0, 1, 0,\n",
       "       0, 0, 0, 0])"
      ]
     },
     "execution_count": 41,
     "metadata": {},
     "output_type": "execute_result"
    }
   ],
   "source": [
    "nb.predict(X_test)"
   ]
  },
  {
   "cell_type": "markdown",
   "id": "d4a0d7cb",
   "metadata": {},
   "source": [
    "## Importing demo dataset"
   ]
  },
  {
   "cell_type": "code",
   "execution_count": 42,
   "id": "cfbe38ef",
   "metadata": {},
   "outputs": [
    {
     "data": {
      "text/html": [
       "<div>\n",
       "<style scoped>\n",
       "    .dataframe tbody tr th:only-of-type {\n",
       "        vertical-align: middle;\n",
       "    }\n",
       "\n",
       "    .dataframe tbody tr th {\n",
       "        vertical-align: top;\n",
       "    }\n",
       "\n",
       "    .dataframe thead th {\n",
       "        text-align: right;\n",
       "    }\n",
       "</style>\n",
       "<table border=\"1\" class=\"dataframe\">\n",
       "  <thead>\n",
       "    <tr style=\"text-align: right;\">\n",
       "      <th></th>\n",
       "      <th>Unnamed: 0</th>\n",
       "      <th>Subject</th>\n",
       "      <th>Address</th>\n",
       "      <th>messages</th>\n",
       "    </tr>\n",
       "  </thead>\n",
       "  <tbody>\n",
       "    <tr>\n",
       "      <th>0</th>\n",
       "      <td>0</td>\n",
       "      <td>Innovation Center Initiatives and Partnerships</td>\n",
       "      <td>Weijie Zhao &lt;weijiezhao@mail.adelphi.edu&gt;</td>\n",
       "      <td>Innovation Center Initiatives and Partnerships...</td>\n",
       "    </tr>\n",
       "    <tr>\n",
       "      <th>1</th>\n",
       "      <td>1</td>\n",
       "      <td>internship</td>\n",
       "      <td>Weijie Zhao &lt;weijiezhao@mail.adelphi.edu&gt;</td>\n",
       "      <td>Why Take the Innovation Center Internship Prog...</td>\n",
       "    </tr>\n",
       "    <tr>\n",
       "      <th>2</th>\n",
       "      <td>2</td>\n",
       "      <td>innovation center</td>\n",
       "      <td>Weijie Zhao &lt;weijiezhao@mail.adelphi.edu&gt;</td>\n",
       "      <td>career-immersion curriculum that allows you to...</td>\n",
       "    </tr>\n",
       "    <tr>\n",
       "      <th>3</th>\n",
       "      <td>3</td>\n",
       "      <td>Fwd: Artificial Intelligence and Design Thinki...</td>\n",
       "      <td>Weijie Zhao &lt;weijiezhao@mail.adelphi.edu&gt;</td>\n",
       "      <td>---------- Forwarded message ---------From: Ta...</td>\n",
       "    </tr>\n",
       "    <tr>\n",
       "      <th>4</th>\n",
       "      <td>4</td>\n",
       "      <td>Fwd: Artificial Intelligence and Design Thinki...</td>\n",
       "      <td>Weijie Zhao &lt;weijiezhao@mail.adelphi.edu&gt;</td>\n",
       "      <td>---------- Forwarded message ---------From: Ta...</td>\n",
       "    </tr>\n",
       "    <tr>\n",
       "      <th>5</th>\n",
       "      <td>5</td>\n",
       "      <td>Tomorrow | Building a Climate Resilient Health...</td>\n",
       "      <td>Axios Events &lt;events@axios.com&gt;</td>\n",
       "      <td>On December 15th, join Axios for a virtual eve...</td>\n",
       "    </tr>\n",
       "    <tr>\n",
       "      <th>6</th>\n",
       "      <td>6</td>\n",
       "      <td>12.14.21 | 👩‍⚕️ A beginner's guide to picking ...</td>\n",
       "      <td>The Daily Good &lt;hello@thegoodtrade.com&gt;</td>\n",
       "      <td>Start your day with something good.December 14...</td>\n",
       "    </tr>\n",
       "    <tr>\n",
       "      <th>7</th>\n",
       "      <td>7</td>\n",
       "      <td>2021's Solid Seven ⚠️</td>\n",
       "      <td>\"theCLIKK\" &lt;team@theclikk.com&gt;</td>\n",
       "      <td>TODAY: we break into the Greatest CLIKKs Top T...</td>\n",
       "    </tr>\n",
       "    <tr>\n",
       "      <th>8</th>\n",
       "      <td>8</td>\n",
       "      <td>Thursday | S&amp;P Global and Moody's leaders disc...</td>\n",
       "      <td>Axios Events &lt;events@axios.com&gt;</td>\n",
       "      <td>On December 16th, join Axios for a virtual eve...</td>\n",
       "    </tr>\n",
       "    <tr>\n",
       "      <th>9</th>\n",
       "      <td>9</td>\n",
       "      <td>Axios Pro Rata: Stock transfer agents in the s...</td>\n",
       "      <td>Dan Primack &lt;dan@axios.com&gt;</td>\n",
       "      <td>Plus, solving single-use plastics via SPAC | T...</td>\n",
       "    </tr>\n",
       "  </tbody>\n",
       "</table>\n",
       "</div>"
      ],
      "text/plain": [
       "   Unnamed: 0                                            Subject  \\\n",
       "0           0     Innovation Center Initiatives and Partnerships   \n",
       "1           1                                         internship   \n",
       "2           2                                  innovation center   \n",
       "3           3  Fwd: Artificial Intelligence and Design Thinki...   \n",
       "4           4  Fwd: Artificial Intelligence and Design Thinki...   \n",
       "5           5  Tomorrow | Building a Climate Resilient Health...   \n",
       "6           6  12.14.21 | 👩‍⚕️ A beginner's guide to picking ...   \n",
       "7           7                              2021's Solid Seven ⚠️   \n",
       "8           8  Thursday | S&P Global and Moody's leaders disc...   \n",
       "9           9  Axios Pro Rata: Stock transfer agents in the s...   \n",
       "\n",
       "                                     Address  \\\n",
       "0  Weijie Zhao <weijiezhao@mail.adelphi.edu>   \n",
       "1  Weijie Zhao <weijiezhao@mail.adelphi.edu>   \n",
       "2  Weijie Zhao <weijiezhao@mail.adelphi.edu>   \n",
       "3  Weijie Zhao <weijiezhao@mail.adelphi.edu>   \n",
       "4  Weijie Zhao <weijiezhao@mail.adelphi.edu>   \n",
       "5            Axios Events <events@axios.com>   \n",
       "6    The Daily Good <hello@thegoodtrade.com>   \n",
       "7             \"theCLIKK\" <team@theclikk.com>   \n",
       "8            Axios Events <events@axios.com>   \n",
       "9                Dan Primack <dan@axios.com>   \n",
       "\n",
       "                                            messages  \n",
       "0  Innovation Center Initiatives and Partnerships...  \n",
       "1  Why Take the Innovation Center Internship Prog...  \n",
       "2  career-immersion curriculum that allows you to...  \n",
       "3  ---------- Forwarded message ---------From: Ta...  \n",
       "4  ---------- Forwarded message ---------From: Ta...  \n",
       "5  On December 15th, join Axios for a virtual eve...  \n",
       "6  Start your day with something good.December 14...  \n",
       "7  TODAY: we break into the Greatest CLIKKs Top T...  \n",
       "8  On December 16th, join Axios for a virtual eve...  \n",
       "9  Plus, solving single-use plastics via SPAC | T...  "
      ]
     },
     "execution_count": 42,
     "metadata": {},
     "output_type": "execute_result"
    }
   ],
   "source": [
    "#import data\n",
    "df2 = pd.read_csv('email.csv')\n",
    "df2.head(10)"
   ]
  },
  {
   "cell_type": "code",
   "execution_count": 43,
   "id": "c0605474",
   "metadata": {},
   "outputs": [
    {
     "data": {
      "text/plain": [
       "Unnamed: 0    0\n",
       "Subject       0\n",
       "Address       0\n",
       "messages      0\n",
       "dtype: int64"
      ]
     },
     "execution_count": 43,
     "metadata": {},
     "output_type": "execute_result"
    }
   ],
   "source": [
    "#show null\n",
    "df2.isnull().sum()"
   ]
  },
  {
   "cell_type": "code",
   "execution_count": 44,
   "id": "e8e1ae3d",
   "metadata": {},
   "outputs": [
    {
     "data": {
      "text/plain": [
       "'Start your day with something good.November 30, 2021https://mailchi.mp/thegoodtrade/113021-your-guide-to-head-to-toe-self-massage?e=e7ab5448b7Take the credit that you have earned.Warmly,AmyAnn Cadwell& THE GOOD TRADE TEAMhttps://open.spotify.com/track/01K4zKU104LyJ8gMb7227B?si=c11f5e182e5d4736We love that Taylor Swift is slowly re-releasing her entire catalogue to regain ownership of her music rights. This tearjerker of a track enlists fellow blondie (and sad girl) Phoebe Bridgers—grab the tissues! 😢LISTEN TO \"NOTHING NEW (TAYLOR\\'S VERSION)\" (https://open.spotify.com/track/01K4zKU104LyJ8gMb7227B?si=c11f5e182e5d4736)https://www.theoriginaldish.com/2020/12/13/creamy-red-pepper-pasta-with-burrata-herbs/Holy burrata 😍 This recipe is for the cheese-lovers! Creamy red pepper sauce, caramelized shallots, lots of garlic, and a heaping spoonful of burrata make this pasta warm and comforting.MAKE RED PEPPER PASTA WITH BURRATA (https://www.theoriginaldish.com/2020/12/13/creamy-red-pepper-pasta-with-burrata-herbs/)https://www.pntra.com/t/TUJGR0pNTkJGSUxLR0VCR0hFR05G?url=https%3A%2F%2Fwww.100percentpure.com%2Fcollections%2Fbeauty-dealsPssst—we are going to let you in on a beauty lover is secret. 100% PURE, our go-to for skincare and makeup, is offering $10 deals on everything from blush to brightening serum. Just add $35+ to your tote to start and the skincare specials will unlock. Happy gifting! 🎁BROWSE 100% PURE BEAUTY DEALS (https://www.pntra.com/t/TUJGR0pNTkJGSUxLR0VCR0hFR05G?url=https%3A%2F%2Fwww.100percentpure.com%2Fcollections%2Fbeauty-deals)https://www.thegoodtrade.com/features/self-massage-tips?tdgYour Guide To Head-T0-Toe Self-MassageREAD ON THE GOOD TRADE (https://www.thegoodtrade.com/features/self-massage-tips?tdg)Morning Brew is hiring across all positions (https://jobs.lever.co/morningbrew)  (NYC).** \"My holiday cravings include this gianduja and mini panettone set (https://shrsl.com/39963) .\" —Danielle, Partnerships Manager------------------------------------------------------------** Meet Ji-Young, (https://www.instagram.com/p/CWTUH1pN23i/)  Sesame Street is first Korean-American muppet. 💛------------------------------------------------------------https://www.thegoodtrade.com/https://www.instagram.com/thegoodtrade https://twitter.com/thegoodtrade https://www.facebook.com/thegoodtradeCopyright 2021 The Good Trade, all rights reserved.Have a feature you would like to recommend?RECOMMEND A FEATURE (mailto:hello@thegoodtrade.com?subject=The%20Daily%20Good%20-%20Feature%20Recommendation%20)Curious about advertising with us?SUBMIT A BUSINESS INQUIRY (https://www.thegoodtrade.com/advertising-partnerships)Looking for a weekly email roundup?SUBSCRIBE TO THE WEEKLY (http://eepurl.com/dpXg89)Want to change how you receive these emails?UNSUBSCRIBE (https://thegoodtrade.us10.list-manage.com/unsubscribe?u=a7d057d1ed5e731f8eb22bab0&id=cfbed2f865&e=e7ab5448b7&c=32084439eb)============================================================'"
      ]
     },
     "execution_count": 44,
     "metadata": {},
     "output_type": "execute_result"
    }
   ],
   "source": [
    "#check messages\n",
    "msg = decontact(df2['messages'][70])\n",
    "msg"
   ]
  },
  {
   "cell_type": "code",
   "execution_count": 45,
   "id": "7ac9d5b1",
   "metadata": {},
   "outputs": [],
   "source": [
    "#CONVRTING EVERYTHING TO LOWERCASE\n",
    "df2['messages']=df2['messages'].str.lower()\n",
    "#REPLACING NEXT LINES BY 'WHITE SPACE'\n",
    "df2['messages']=df2['messages'].str.replace(r'\\n',\" \") \n",
    "# REPLACING EMAIL IDs BY 'MAILID'\n",
    "df2['messages']=df2['messages'].str.replace(r'^.+@[^\\.].*\\.[a-z]{2,}$','MailID')\n",
    "# REPLACING URLs  BY 'Links'\n",
    "df2['messages']=df2['messages'].str.replace(r'^http\\://[a-zA-Z0-9\\-\\.]+\\.[a-zA-Z]{2,3}(/\\S*)?$','Links')\n",
    "# REPLACING CURRENCY SIGNS BY 'MONEY'\n",
    "df2['messages']=df2['messages'].str.replace(r'£|\\$', 'Money')\n",
    "# REPLACING LARGE WHITE SPACE BY SINGLE WHITE SPACE\n",
    "df2['messages']=df2['messages'].str.replace(r'\\s+', ' ')\n",
    "\n",
    "# REPLACING LEADING AND TRAILING WHITE SPACE BY SINGLE WHITE SPACE\n",
    "df2['messages']=df2['messages'].str.replace(r'^\\s+|\\s+?$', '')\n",
    "#REPLACING CONTACT NUMBERS\n",
    "df2['messages']=df2['messages'].str.replace(r'^\\(?[\\d]{3}\\)?[\\s-]?[\\d]{3}[\\s-]?[\\d]{4}$','contact number')\n",
    "#REPLACING SPECIAL CHARACTERS  BY WHITE SPACE \n",
    "df2['messages']=df2['messages'].str.replace(r\"[^a-zA-Z0-9]+\", \" \")"
   ]
  },
  {
   "cell_type": "code",
   "execution_count": 46,
   "id": "bb95a02b",
   "metadata": {
    "scrolled": false
   },
   "outputs": [
    {
     "data": {
      "text/html": [
       "<div>\n",
       "<style scoped>\n",
       "    .dataframe tbody tr th:only-of-type {\n",
       "        vertical-align: middle;\n",
       "    }\n",
       "\n",
       "    .dataframe tbody tr th {\n",
       "        vertical-align: top;\n",
       "    }\n",
       "\n",
       "    .dataframe thead th {\n",
       "        text-align: right;\n",
       "    }\n",
       "</style>\n",
       "<table border=\"1\" class=\"dataframe\">\n",
       "  <thead>\n",
       "    <tr style=\"text-align: right;\">\n",
       "      <th></th>\n",
       "      <th>Unnamed: 0</th>\n",
       "      <th>Subject</th>\n",
       "      <th>Address</th>\n",
       "      <th>messages</th>\n",
       "    </tr>\n",
       "  </thead>\n",
       "  <tbody>\n",
       "    <tr>\n",
       "      <th>0</th>\n",
       "      <td>0</td>\n",
       "      <td>Innovation Center Initiatives and Partnerships</td>\n",
       "      <td>Weijie Zhao &lt;weijiezhao@mail.adelphi.edu&gt;</td>\n",
       "      <td>innovation center initiatives and partnerships...</td>\n",
       "    </tr>\n",
       "    <tr>\n",
       "      <th>1</th>\n",
       "      <td>1</td>\n",
       "      <td>internship</td>\n",
       "      <td>Weijie Zhao &lt;weijiezhao@mail.adelphi.edu&gt;</td>\n",
       "      <td>why take the innovation center internship prog...</td>\n",
       "    </tr>\n",
       "    <tr>\n",
       "      <th>2</th>\n",
       "      <td>2</td>\n",
       "      <td>innovation center</td>\n",
       "      <td>Weijie Zhao &lt;weijiezhao@mail.adelphi.edu&gt;</td>\n",
       "      <td>career immersion curriculum that allows you to...</td>\n",
       "    </tr>\n",
       "    <tr>\n",
       "      <th>3</th>\n",
       "      <td>3</td>\n",
       "      <td>Fwd: Artificial Intelligence and Design Thinki...</td>\n",
       "      <td>Weijie Zhao &lt;weijiezhao@mail.adelphi.edu&gt;</td>\n",
       "      <td>forwarded message from tara gercke date mon n...</td>\n",
       "    </tr>\n",
       "    <tr>\n",
       "      <th>4</th>\n",
       "      <td>4</td>\n",
       "      <td>Fwd: Artificial Intelligence and Design Thinki...</td>\n",
       "      <td>Weijie Zhao &lt;weijiezhao@mail.adelphi.edu&gt;</td>\n",
       "      <td>forwarded message from tara gercke date mon d...</td>\n",
       "    </tr>\n",
       "  </tbody>\n",
       "</table>\n",
       "</div>"
      ],
      "text/plain": [
       "   Unnamed: 0                                            Subject  \\\n",
       "0           0     Innovation Center Initiatives and Partnerships   \n",
       "1           1                                         internship   \n",
       "2           2                                  innovation center   \n",
       "3           3  Fwd: Artificial Intelligence and Design Thinki...   \n",
       "4           4  Fwd: Artificial Intelligence and Design Thinki...   \n",
       "\n",
       "                                     Address  \\\n",
       "0  Weijie Zhao <weijiezhao@mail.adelphi.edu>   \n",
       "1  Weijie Zhao <weijiezhao@mail.adelphi.edu>   \n",
       "2  Weijie Zhao <weijiezhao@mail.adelphi.edu>   \n",
       "3  Weijie Zhao <weijiezhao@mail.adelphi.edu>   \n",
       "4  Weijie Zhao <weijiezhao@mail.adelphi.edu>   \n",
       "\n",
       "                                            messages  \n",
       "0  innovation center initiatives and partnerships...  \n",
       "1  why take the innovation center internship prog...  \n",
       "2  career immersion curriculum that allows you to...  \n",
       "3   forwarded message from tara gercke date mon n...  \n",
       "4   forwarded message from tara gercke date mon d...  "
      ]
     },
     "execution_count": 46,
     "metadata": {},
     "output_type": "execute_result"
    }
   ],
   "source": [
    "df2.head()"
   ]
  },
  {
   "cell_type": "markdown",
   "id": "f4807006",
   "metadata": {},
   "source": [
    "## Prediction"
   ]
  },
  {
   "cell_type": "code",
   "execution_count": 47,
   "id": "9a0b36b1",
   "metadata": {},
   "outputs": [],
   "source": [
    "pred = logi.predict(df2.messages)"
   ]
  },
  {
   "cell_type": "code",
   "execution_count": 48,
   "id": "ce82cebb",
   "metadata": {},
   "outputs": [
    {
     "data": {
      "text/plain": [
       "array([0, 0, 0, 0, 0, 0, 0, 0, 0, 0, 0, 0, 0, 0, 1, 0, 0, 0, 0, 0, 0, 0,\n",
       "       0, 0, 0, 0, 0, 0, 0, 0, 0, 0, 0, 0, 0, 0, 0, 1, 0, 0, 0, 0, 0, 0,\n",
       "       0, 0, 0, 0, 0, 1, 0, 0, 0, 0, 0, 0, 0, 0, 0, 0, 0, 0, 0, 0, 0, 0,\n",
       "       0, 0, 1, 0, 0, 0, 0, 0, 0, 0, 0, 0, 0, 0, 0, 0, 0, 0, 0, 0, 0, 0,\n",
       "       0, 0, 0, 0, 0, 0, 1, 0, 0, 0, 0, 0, 0, 0, 0, 0, 0, 0, 0, 0, 0, 0,\n",
       "       0, 0, 0, 0, 0, 0, 0, 0, 0, 0, 0, 0, 1, 1, 0, 1, 0, 0])"
      ]
     },
     "execution_count": 48,
     "metadata": {},
     "output_type": "execute_result"
    }
   ],
   "source": [
    "pred"
   ]
  },
  {
   "cell_type": "code",
   "execution_count": 49,
   "id": "4ed1eca5",
   "metadata": {},
   "outputs": [
    {
     "name": "stdout",
     "output_type": "stream",
     "text": [
      "mask：\n",
      "[0 1]\n",
      "result：\n",
      "{0: 120, 1: 8}\n"
     ]
    }
   ],
   "source": [
    "#count the array\n",
    "mask = np.unique(pred)\n",
    "tmp = {}\n",
    "for v in mask:\n",
    "    tmp[v] = np.sum(pred == v)\n",
    "print(\"mask：\")\n",
    "print(mask)\n",
    "print(\"result：\")\n",
    "print(tmp)"
   ]
  },
  {
   "cell_type": "code",
   "execution_count": 50,
   "id": "1b741519",
   "metadata": {},
   "outputs": [],
   "source": [
    "def np_count(nparray, x):\n",
    "    i = 0\n",
    "    for n in nparray:\n",
    "        if n == x:\n",
    "            i += 1\n",
    "    return i"
   ]
  },
  {
   "cell_type": "code",
   "execution_count": 51,
   "id": "8dabe734",
   "metadata": {},
   "outputs": [
    {
     "name": "stdout",
     "output_type": "stream",
     "text": [
      "no spam: \n",
      "120\n",
      "spam: \n",
      "8\n"
     ]
    }
   ],
   "source": [
    "#show the result of prediction \n",
    "nospam = np_count(pred, 0)\n",
    "spam = np_count (pred, 1)\n",
    "print ('no spam: ')\n",
    "print (nospam)\n",
    "print ('spam: ')\n",
    "print (spam)"
   ]
  },
  {
   "cell_type": "markdown",
   "id": "c9d56f24",
   "metadata": {},
   "source": [
    "## Visualization"
   ]
  },
  {
   "cell_type": "code",
   "execution_count": 52,
   "id": "28e7832e",
   "metadata": {},
   "outputs": [
    {
     "data": {
      "image/png": "[encoded data removed]",
      "text/plain": [
       "<Figure size 720x432 with 1 Axes>"
      ]
     },
     "metadata": {},
     "output_type": "display_data"
    }
   ],
   "source": [
    "#pie gragh\n",
    "plt.figure(figsize=(10, 6))\n",
    "y = np.array([nospam, spam])\n",
    "\n",
    "plt.pie(y,\n",
    "        labels=['no spam','spam'], \n",
    "        colors=[\"#d5695d\", \"#5d8ca8\", \"#65a479\", \"#a564c9\"], \n",
    "        explode=(0, 0.2), \n",
    "        autopct='%.2f%%', \n",
    "       )\n",
    "plt.title(\"Spam v.s. No Spam\") # title\n",
    "plt.show()"
   ]
  },
  {
   "cell_type": "code",
   "execution_count": 53,
   "id": "ea31ea0b",
   "metadata": {},
   "outputs": [
    {
     "data": {
      "image/png": "[encoded data removed]",
      "text/plain": [
       "<Figure size 720x432 with 1 Axes>"
      ]
     },
     "metadata": {
      "needs_background": "light"
     },
     "output_type": "display_data"
    }
   ],
   "source": [
    "plt.figure(figsize=(10, 6))\n",
    "x = np.array([\"no spam\", \"spam\"])\n",
    "y = np.array([nospam, spam])\n",
    "\n",
    "\n",
    "for a,b in zip(x,y):  \n",
    "    plt.text(a, b+0.05, '%.0f' % b, ha='center', va= 'bottom',fontsize=11)  \n",
    "\n",
    "\n",
    "plt.title(\"Spam v.s. No Spam\") # title\n",
    "plt.bar(x, y,  color = [\"#d5695d\", \"#5d8ca8\"])\n",
    "plt.show()"
   ]
  },
  {
   "cell_type": "code",
   "execution_count": null,
   "id": "f4350efe",
   "metadata": {},
   "outputs": [],
   "source": []
  },
  {
   "cell_type": "code",
   "execution_count": null,
   "id": "0b43cf6c",
   "metadata": {},
   "outputs": [],
   "source": []
  }
 ],
 "metadata": {
  "kernelspec": {
   "display_name": "Python 3",
   "language": "python",
   "name": "python3"
  },
  "language_info": {
   "codemirror_mode": {
    "name": "ipython",
    "version": 3
   },
   "file_extension": ".py",
   "mimetype": "text/x-python",
   "name": "python",
   "nbconvert_exporter": "python",
   "pygments_lexer": "ipython3",
   "version": "3.8.8"
  },
  "toc": {
   "base_numbering": 1,
   "nav_menu": {},
   "number_sections": true,
   "sideBar": true,
   "skip_h1_title": false,
   "title_cell": "Table of Contents",
   "title_sidebar": "Contents",
   "toc_cell": false,
   "toc_position": {
    "height": "calc(100% - 180px)",
    "left": "10px",
    "top": "150px",
    "width": "302.391px"
   },
   "toc_section_display": true,
   "toc_window_display": true
  },
  "varInspector": {
   "cols": {
    "lenName": 16,
    "lenType": 16,
    "lenVar": 40
   },
   "kernels_config": {
    "python": {
     "delete_cmd_postfix": "",
     "delete_cmd_prefix": "del ",
     "library": "var_list.py",
     "varRefreshCmd": "print(var_dic_list())"
    },
    "r": {
     "delete_cmd_postfix": ") ",
     "delete_cmd_prefix": "rm(",
     "library": "var_list.r",
     "varRefreshCmd": "cat(var_dic_list()) "
    }
   },
   "types_to_exclude": [
    "module",
    "function",
    "builtin_function_or_method",
    "instance",
    "_Feature"
   ],
   "window_display": false
  }
 },
 "nbformat": 4,
 "nbformat_minor": 5
}
